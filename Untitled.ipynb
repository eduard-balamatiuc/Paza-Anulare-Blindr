{
 "cells": [
  {
   "cell_type": "code",
   "execution_count": 1,
   "id": "8d758419",
   "metadata": {},
   "outputs": [],
   "source": [
    "import pandas as pd"
   ]
  },
  {
   "cell_type": "code",
   "execution_count": 2,
   "id": "37fb6c3f",
   "metadata": {},
   "outputs": [],
   "source": [
    "COLUMN_NAMES = ['login', 'password', 'key', 'email', 'name', 'age', 'city', 'spend_time', 'movies', 'music', 'pet', 'profession', 'hobbies', 'social_status', 'gender', 'food','image_embedding', 'description', 'reviews', 'points']\n",
    "PATH_TO_DATA = 'db.csv'"
   ]
  },
  {
   "cell_type": "code",
   "execution_count": 22,
   "id": "e52efb46",
   "metadata": {},
   "outputs": [],
   "source": [
    "db = pd.read_csv(PATH_TO_DATA, sep = '$')"
   ]
  },
  {
   "cell_type": "code",
   "execution_count": 23,
   "id": "0e5e36fc",
   "metadata": {},
   "outputs": [
    {
     "data": {
      "text/html": [
       "<div>\n",
       "<style scoped>\n",
       "    .dataframe tbody tr th:only-of-type {\n",
       "        vertical-align: middle;\n",
       "    }\n",
       "\n",
       "    .dataframe tbody tr th {\n",
       "        vertical-align: top;\n",
       "    }\n",
       "\n",
       "    .dataframe thead th {\n",
       "        text-align: right;\n",
       "    }\n",
       "</style>\n",
       "<table border=\"1\" class=\"dataframe\">\n",
       "  <thead>\n",
       "    <tr style=\"text-align: right;\">\n",
       "      <th></th>\n",
       "      <th>login</th>\n",
       "      <th>password</th>\n",
       "      <th>key</th>\n",
       "      <th>email</th>\n",
       "      <th>name</th>\n",
       "      <th>age</th>\n",
       "      <th>city</th>\n",
       "      <th>spend_time</th>\n",
       "      <th>movies</th>\n",
       "      <th>music</th>\n",
       "      <th>pet</th>\n",
       "      <th>profession</th>\n",
       "      <th>hobbies</th>\n",
       "      <th>social_status</th>\n",
       "      <th>gender</th>\n",
       "      <th>food</th>\n",
       "      <th>image_embedding</th>\n",
       "      <th>description</th>\n",
       "      <th>reviews</th>\n",
       "      <th>points</th>\n",
       "    </tr>\n",
       "  </thead>\n",
       "  <tbody>\n",
       "    <tr>\n",
       "      <th>0</th>\n",
       "      <td>deep</td>\n",
       "      <td>12345</td>\n",
       "      <td>8d99e7be-8f8a-4093-8106-73edc8891364</td>\n",
       "      <td>graur.lenka@gmail.com</td>\n",
       "      <td>Lena</td>\n",
       "      <td>12</td>\n",
       "      <td>Chisinau</td>\n",
       "      <td>actively</td>\n",
       "      <td>['Comedy', 'Horror']</td>\n",
       "      <td>['Rock', 'Dubstep']</td>\n",
       "      <td>Yes</td>\n",
       "      <td>Security</td>\n",
       "      <td>['Reading', 'Playing boardgames']</td>\n",
       "      <td>Single</td>\n",
       "      <td>Male</td>\n",
       "      <td>['Healthy food']</td>\n",
       "      <td>smith.jpg</td>\n",
       "      <td>Love bananas!</td>\n",
       "      <td></td>\n",
       "      <td>0</td>\n",
       "    </tr>\n",
       "    <tr>\n",
       "      <th>1</th>\n",
       "      <td>deep2</td>\n",
       "      <td>123456</td>\n",
       "      <td>09ed09be-a9db-43b5-899b-6f346a8ed142</td>\n",
       "      <td>aclefos@yahoo.com</td>\n",
       "      <td>Alex</td>\n",
       "      <td>19</td>\n",
       "      <td>Chisinau</td>\n",
       "      <td>actively</td>\n",
       "      <td>['Comedy', 'Horror']</td>\n",
       "      <td>['Metal']</td>\n",
       "      <td>Yes</td>\n",
       "      <td>Security</td>\n",
       "      <td>['Reading', 'Playing boardgames']</td>\n",
       "      <td>Single</td>\n",
       "      <td>Male</td>\n",
       "      <td>['Healthy food']</td>\n",
       "      <td>samuel.jpg</td>\n",
       "      <td>I like hot dogs!</td>\n",
       "      <td></td>\n",
       "      <td>0</td>\n",
       "    </tr>\n",
       "  </tbody>\n",
       "</table>\n",
       "</div>"
      ],
      "text/plain": [
       "   login  password                                   key  \\\n",
       "0   deep     12345  8d99e7be-8f8a-4093-8106-73edc8891364   \n",
       "1  deep2    123456  09ed09be-a9db-43b5-899b-6f346a8ed142   \n",
       "\n",
       "                   email  name  age      city spend_time  \\\n",
       "0  graur.lenka@gmail.com  Lena   12  Chisinau   actively   \n",
       "1      aclefos@yahoo.com  Alex   19  Chisinau   actively   \n",
       "\n",
       "                 movies                music  pet profession  \\\n",
       "0  ['Comedy', 'Horror']  ['Rock', 'Dubstep']  Yes   Security   \n",
       "1  ['Comedy', 'Horror']            ['Metal']  Yes   Security   \n",
       "\n",
       "                             hobbies social_status gender              food  \\\n",
       "0  ['Reading', 'Playing boardgames']        Single   Male  ['Healthy food']   \n",
       "1  ['Reading', 'Playing boardgames']        Single   Male  ['Healthy food']   \n",
       "\n",
       "  image_embedding       description reviews  points  \n",
       "0       smith.jpg     Love bananas!               0  \n",
       "1      samuel.jpg  I like hot dogs!               0  "
      ]
     },
     "execution_count": 23,
     "metadata": {},
     "output_type": "execute_result"
    }
   ],
   "source": [
    "db"
   ]
  },
  {
   "cell_type": "code",
   "execution_count": 17,
   "id": "1d6eb7fb",
   "metadata": {},
   "outputs": [],
   "source": [
    "db = pd.DataFrame({}, columns = COLUMN_NAMES)"
   ]
  },
  {
   "cell_type": "code",
   "execution_count": 18,
   "id": "0f3aff99",
   "metadata": {},
   "outputs": [],
   "source": [
    "db.to_csv(PATH_TO_DATA, sep = '$', index = False)\n"
   ]
  },
  {
   "cell_type": "code",
   "execution_count": null,
   "id": "d9c6f432",
   "metadata": {},
   "outputs": [],
   "source": []
  },
  {
   "cell_type": "code",
   "execution_count": 26,
   "id": "268b569e",
   "metadata": {},
   "outputs": [],
   "source": [
    "quests = pd.DataFrame(data  = {}, columns = ['event_key', 'users_key'])\n",
    "quests.to_csv('quests.csv', sep = '$')"
   ]
  },
  {
   "cell_type": "code",
   "execution_count": 27,
   "id": "d748b5a5",
   "metadata": {},
   "outputs": [],
   "source": [
    "quests = pd.read_csv('quests.csv', sep = '$')"
   ]
  },
  {
   "cell_type": "code",
   "execution_count": 28,
   "id": "8c564778",
   "metadata": {},
   "outputs": [
    {
     "data": {
      "text/html": [
       "<div>\n",
       "<style scoped>\n",
       "    .dataframe tbody tr th:only-of-type {\n",
       "        vertical-align: middle;\n",
       "    }\n",
       "\n",
       "    .dataframe tbody tr th {\n",
       "        vertical-align: top;\n",
       "    }\n",
       "\n",
       "    .dataframe thead th {\n",
       "        text-align: right;\n",
       "    }\n",
       "</style>\n",
       "<table border=\"1\" class=\"dataframe\">\n",
       "  <thead>\n",
       "    <tr style=\"text-align: right;\">\n",
       "      <th></th>\n",
       "      <th>Unnamed: 0</th>\n",
       "      <th>event_key</th>\n",
       "      <th>users_key</th>\n",
       "    </tr>\n",
       "  </thead>\n",
       "  <tbody>\n",
       "  </tbody>\n",
       "</table>\n",
       "</div>"
      ],
      "text/plain": [
       "Empty DataFrame\n",
       "Columns: [Unnamed: 0, event_key, users_key]\n",
       "Index: []"
      ]
     },
     "execution_count": 28,
     "metadata": {},
     "output_type": "execute_result"
    }
   ],
   "source": [
    "quests"
   ]
  },
  {
   "cell_type": "code",
   "execution_count": null,
   "id": "5b53e784",
   "metadata": {},
   "outputs": [],
   "source": []
  }
 ],
 "metadata": {
  "kernelspec": {
   "display_name": "Python 3 (ipykernel)",
   "language": "python",
   "name": "python3"
  },
  "language_info": {
   "codemirror_mode": {
    "name": "ipython",
    "version": 3
   },
   "file_extension": ".py",
   "mimetype": "text/x-python",
   "name": "python",
   "nbconvert_exporter": "python",
   "pygments_lexer": "ipython3",
   "version": "3.7.12"
  }
 },
 "nbformat": 4,
 "nbformat_minor": 5
}
